{
  "nbformat": 4,
  "nbformat_minor": 0,
  "metadata": {
    "colab": {
      "name": "パターン認識.ipynb",
      "provenance": [],
      "mount_file_id": "1fuVlf92Mw64qyxxJUlsc9wTPiHIIx84P",
      "authorship_tag": "ABX9TyM3djmQ10Z/0ep3dPr/r/Mk",
      "include_colab_link": true
    },
    "kernelspec": {
      "name": "python3",
      "display_name": "Python 3"
    },
    "language_info": {
      "name": "python"
    }
  },
  "cells": [
    {
      "cell_type": "markdown",
      "metadata": {
        "id": "view-in-github",
        "colab_type": "text"
      },
      "source": [
        "<a href=\"https://colab.research.google.com/github/t4t5u0/PatternRecognition/blob/feature%2Fdct/%E3%83%91%E3%82%BF%E3%83%BC%E3%83%B3%E8%AA%8D%E8%AD%98.ipynb\" target=\"_parent\"><img src=\"https://colab.research.google.com/assets/colab-badge.svg\" alt=\"Open In Colab\"/></a>"
      ]
    },
    {
      "cell_type": "code",
      "metadata": {
        "colab": {
          "base_uri": "https://localhost:8080/"
        },
        "id": "0nxjhRBbsMmb",
        "outputId": "c74dc503-65a5-4d4b-f18b-a43f20c88ae0"
      },
      "source": [
        "import cv2\n",
        "print(cv2.__version__)"
      ],
      "execution_count": 36,
      "outputs": [
        {
          "output_type": "stream",
          "text": [
            "4.1.2\n"
          ],
          "name": "stdout"
        }
      ]
    },
    {
      "cell_type": "code",
      "metadata": {
        "id": "PJrLS80MMXib"
      },
      "source": [
        "import numpy as np\n",
        "import matplotlib.pyplot as plt"
      ],
      "execution_count": 37,
      "outputs": []
    },
    {
      "cell_type": "code",
      "metadata": {
        "id": "NNX-uETXI4Pe"
      },
      "source": [
        "path = \"/content/norm64.png\""
      ],
      "execution_count": 38,
      "outputs": []
    },
    {
      "cell_type": "code",
      "metadata": {
        "id": "oXhzej_sJ8E_"
      },
      "source": [
        "img = cv2.imread(path,0)#グレースケールで読み込み"
      ],
      "execution_count": 39,
      "outputs": []
    },
    {
      "cell_type": "code",
      "metadata": {
        "colab": {
          "base_uri": "https://localhost:8080/"
        },
        "id": "XGi9j2D9MmNS",
        "outputId": "e15065c8-eac5-4698-a324-41c8809e9f14"
      },
      "source": [
        "img"
      ],
      "execution_count": 40,
      "outputs": [
        {
          "output_type": "execute_result",
          "data": {
            "text/plain": [
              "array([[ 0,  0,  0, ...,  0,  0,  0],\n",
              "       [ 0, 60, 35, ..., 16, 28, 27],\n",
              "       [ 0, 56, 13, ..., 22, 23, 22],\n",
              "       ...,\n",
              "       [ 0, 27, 20, ..., 18, 14, 11],\n",
              "       [ 0, 23, 17, ..., 22, 16, 10],\n",
              "       [ 0, 15, 12, ..., 15, 12,  8]], dtype=uint8)"
            ]
          },
          "metadata": {
            "tags": []
          },
          "execution_count": 40
        }
      ]
    },
    {
      "cell_type": "code",
      "metadata": {
        "id": "7CBM4mexyPOz"
      },
      "source": [
        "class DCT:\n",
        "\tdef __init__(self,N):\n",
        "\t\tself.N = N\t# データ数．\n",
        "\t\t# 1次元，2次元離散コサイン変換の基底ベクトルをあらかじめ作っておく\n",
        "\t\tself.phi_1d = np.array([ self.phi(i) for i in range(self.N) ])\n",
        "\t\t\n",
        "\t\t# Nが大きいとメモリリークを起こすので注意\n",
        "\t\t# MNISTの28x28程度なら問題ない\n",
        "\t\tself.phi_2d = np.zeros((N,N,N,N))\n",
        "\t\tfor i in range(N):\n",
        "\t\t\tfor j in range(N):\n",
        "\t\t\t\tphi_i,phi_j = np.meshgrid(self.phi_1d[i],self.phi_1d[j])\n",
        "\t\t\t\tself.phi_2d[i,j] = phi_i*phi_j\n",
        "\n",
        "\tdef dct(self,data):\n",
        "\t\t\"\"\" 1次元離散コサイン変換を行う \"\"\"\n",
        "\t\treturn self.phi_1d.dot(data)\n",
        "\t\n",
        "\tdef idct(self,c):\n",
        "\t\t\"\"\" 1次元離散コサイン逆変換を行う \"\"\"\n",
        "\t\treturn np.sum( self.phi_1d.T * c ,axis=1)\n",
        "\t\n",
        "\tdef dct2(self,data):\n",
        "\t\t\"\"\" 2次元離散コサイン変換を行う \"\"\"\n",
        "\t\treturn np.sum(self.phi_2d.reshape(N*N,N*N)*data.reshape(N*N),axis=1).reshape(N,N)\n",
        "\t\n",
        "\tdef idct2(self,c):\n",
        "\t\t\"\"\" 2次元離散コサイン逆変換を行う \"\"\"\n",
        "\t\treturn np.sum((c.reshape(N,N,1)*self.phi_2d.reshape(N,N,N*N)).reshape(N*N,N*N),axis=0).reshape(N,N)\n",
        "\t\n",
        "\tdef phi(self,k):\n",
        "\t\t\"\"\" 離散コサイン変換(DCT)の基底関数 \"\"\"\n",
        "\t\t# DCT-II\n",
        "\t\tif k == 0:\n",
        "\t\t\treturn np.ones(self.N)/np.sqrt(self.N)\n",
        "\t\telse:\n",
        "\t\t\treturn np.sqrt(2.0/self.N)*np.cos((k*np.pi/(2*self.N))*(np.arange(self.N)*2+1))"
      ],
      "execution_count": 41,
      "outputs": []
    },
    {
      "cell_type": "code",
      "metadata": {
        "colab": {
          "base_uri": "https://localhost:8080/",
          "height": 430
        },
        "id": "_UqP965NLHYN",
        "outputId": "ee47756d-ef0c-4790-8ad9-aa8814a743e3"
      },
      "source": [
        "if __name__==\"__main__\":\n",
        "    N = 64\t\t\t# データの次元は64x64とする\n",
        "    dct = DCT(64)\t# 離散コサイン変換を行うクラスを作成\n",
        "    \n",
        "    c = dct.dct2(img)\t# 2次元離散コサイン変換\n",
        "    y = dct.idct2(c)\t# 2次元離散コサイン逆変換\n",
        "    \n",
        "    # 元の画像と復元したものを表示\n",
        "    plt.subplot(1,2,1)\n",
        "    plt.imshow(img,cmap=\"Greys\")\n",
        "    plt.title(\"original\")\n",
        "    plt.xticks([])\n",
        "    plt.subplot(1,2,2)\n",
        "    plt.imshow(y,cmap=\"Greys\")\n",
        "    plt.title(\"restored\")\n",
        "    plt.xticks([])\n",
        "    plt.show()    \n",
        "\n",
        "    print(c)"
      ],
      "execution_count": 42,
      "outputs": [
        {
          "output_type": "display_data",
          "data": {
            "image/png": "[encoded data removed]",
            "text/plain": [
              "<Figure size 432x288 with 2 Axes>"
            ]
          },
          "metadata": {
            "tags": [],
            "needs_background": "light"
          }
        },
        {
          "output_type": "stream",
          "text": [
            "[[ 8.04989062e+03 -7.85427160e+02 -1.53267469e+03 ...  7.86385023e+00\n",
            "   5.58134574e+00 -8.40301575e+00]\n",
            " [ 2.02529164e+03 -7.40785385e+00 -1.97769604e+02 ...  1.20387170e+01\n",
            "  -2.99226952e+00  1.46594183e+01]\n",
            " [-1.81753486e+03 -1.24340666e+03 -5.39290597e+02 ...  1.40838579e+01\n",
            "   1.26159213e+01 -1.56737930e+01]\n",
            " ...\n",
            " [ 7.04299129e+00  1.35496853e+01 -1.54806277e+00 ... -5.36421410e+00\n",
            "   5.88523852e+00 -8.76087102e+00]\n",
            " [ 2.39861541e+01 -1.71219299e+01  2.27539530e+01 ...  2.00612447e-01\n",
            "  -1.16861795e+01  6.65438597e+00]\n",
            " [ 5.12525175e+00 -1.62358608e+01  1.32471597e+01 ...  4.52730910e+00\n",
            "  -3.83085880e+00 -7.11573390e+00]]\n"
          ],
          "name": "stdout"
        }
      ]
    }
  ]
}